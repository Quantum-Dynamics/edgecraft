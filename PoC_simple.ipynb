{
 "cells": [
  {
   "cell_type": "code",
   "execution_count": 1,
   "metadata": {},
   "outputs": [],
   "source": [
    "import matplotlib.animation as animation\n",
    "import matplotlib.pyplot as plt\n",
    "import numpy as np\n",
    "\n",
    "from edgecraft import *\n",
    "\n",
    "\n",
    "# font\n",
    "plt.rcParams[\"font.family\"] = \"Times New Roman\"\n",
    "plt.rcParams[\"mathtext.fontset\"] = \"stix\"\n",
    "plt.rcParams[\"font.size\"] = 15\n",
    "plt.rcParams[\"legend.fontsize\"] = 15\n",
    "\n",
    "# ticks\n",
    "plt.rcParams[\"xtick.labelsize\"] = 10\n",
    "plt.rcParams[\"ytick.labelsize\"] = 10\n",
    "plt.rcParams[\"xtick.top\"] = True\n",
    "plt.rcParams[\"xtick.labeltop\"] = False\n",
    "plt.rcParams[\"ytick.right\"] = True\n",
    "plt.rcParams[\"ytick.labelright\"] = False\n",
    "plt.rcParams[\"xtick.direction\"] = \"in\"\n",
    "plt.rcParams[\"ytick.direction\"] = \"in\"\n",
    "\n",
    "# figure\n",
    "plt.rcParams[\"figure.dpi\"] = 100\n",
    "plt.rcParams[\"figure.facecolor\"] = \"white\"\n",
    "plt.rcParams['figure.subplot.left'] = 0.15"
   ]
  },
  {
   "cell_type": "markdown",
   "metadata": {},
   "source": [
    "**Simulation Parameters**"
   ]
  },
  {
   "cell_type": "code",
   "execution_count": 2,
   "metadata": {},
   "outputs": [],
   "source": [
    "hbar = h / (2 * np.pi)\n",
    "n = 1e15        # m^-2\n",
    "B_0 = n * magnetic_flux_quantum / 1\n",
    "dielectric_vacuum = 8.8854e-12      # F/m\n",
    "dielectric_GaAs = 12.9 * dielectric_vacuum\n",
    "m_e = 9.109e-31     # kg\n",
    "m_GaAs = 0.067 * m_e\n",
    "k_B = 1.380649e-23\n",
    "T = 40e-3\n",
    "\n",
    "M = 20  # multiplier of magnetic length\n",
    "l_B = np.sqrt(h / (2 * np.pi * e * B_0))\n",
    "l = l_B * M\n",
    "\n",
    "E_0 = e**2 / (4 * np.pi * dielectric_GaAs * l)\n",
    "E_LL_diff = hbar * e * B_0 / (m_GaAs * E_0)\n",
    "E_F = E_LL_diff / 2\n",
    "E_QH = E_F / 2\n",
    "\n",
    "E_gate_min = 0\n",
    "E_gate_max = E_F\n",
    "\n",
    "U_thermal = k_B * T / E_0\n",
    "U_disorder = (60e-6 * e) / E_0\n",
    "U_fluc = U_disorder + U_thermal"
   ]
  },
  {
   "cell_type": "code",
   "execution_count": 3,
   "metadata": {},
   "outputs": [
    {
     "name": "stdout",
     "output_type": "stream",
     "text": [
      "E_F = 8.104990760116417\n",
      "U_fluc = 0.14391857894307894\n",
      "2 um / l = 7.926654595212022\n"
     ]
    }
   ],
   "source": [
    "print(f\"E_F = {E_F}\")\n",
    "print(f\"U_fluc = {U_fluc}\")\n",
    "print(f\"2 um / l = {2e-6 / l}\")"
   ]
  },
  {
   "cell_type": "markdown",
   "metadata": {},
   "source": [
    "**Definition of Space**"
   ]
  },
  {
   "cell_type": "code",
   "execution_count": 4,
   "metadata": {},
   "outputs": [],
   "source": [
    "radius_gate = int(50e-6 / l)\n",
    "\n",
    "x = np.arange(0, int(200e-6 / l), 1)\n",
    "y = np.arange(0, int(150e-6 / l), 1)\n",
    "Y, X = np.meshgrid(y, x)\n",
    "\n",
    "space_matrix = (\n",
    "    true_circle_in(Y, X, y[len(y) // 2], x[len(x) // 2], radius_gate) |\n",
    "    (Y >= y[len(y) // 2])\n",
    ").astype(int)\n",
    "diff_y = np.gradient(space_matrix, 1, axis=0)\n",
    "diff_x = np.gradient(space_matrix, 1, axis=1)\n",
    "\n",
    "# sample edge\n",
    "boundary = ((diff_x != 0) | (diff_y != 0)).astype(int)\n",
    "boundary_y = y[np.where(boundary == 1)[1]]\n",
    "boundary_x = x[np.where(boundary == 1)[0]]\n",
    "boundary_indices = np.array(np.where(boundary == 1)).T\n",
    "\n",
    "# bulk (space \\ sample edge)\n",
    "bulk = np.copy(space_matrix)\n",
    "bulk[boundary == 1] = 0\n",
    "bulk_indices = np.array(np.where(bulk == 1)).T\n",
    "\n",
    "# vacuum\n",
    "vacuum = np.copy((~space_matrix.astype(bool)).astype(int))\n",
    "\n",
    "# expansion gate\n",
    "gate = np.logical_xor(\n",
    "    true_circle_in(Y, X, y[len(y) // 2], x[len(x) // 2], radius_gate),\n",
    "    true_circle_in(Y, X, y[len(y) // 2], x[len(x) // 2], radius_gate - int(25e-6 / l)),\n",
    ").astype(int)\n",
    "gate[Y >= y[len(y) // 2]] = 0\n",
    "gate[boundary == 1] = 0\n",
    "gate_indices = np.array(np.where(gate == 1)).T"
   ]
  },
  {
   "cell_type": "markdown",
   "metadata": {},
   "source": [
    "**Adjusting the parameter of the confinement potential $\\alpha$**"
   ]
  },
  {
   "cell_type": "code",
   "execution_count": 5,
   "metadata": {},
   "outputs": [],
   "source": [
    "energy = np.zeros_like(space_matrix, dtype=float)\n",
    "energy = apply_confinement_potential(energy, bulk_indices, boundary_indices, 1)"
   ]
  },
  {
   "cell_type": "code",
   "execution_count": 6,
   "metadata": {},
   "outputs": [
    {
     "name": "stdout",
     "output_type": "stream",
     "text": [
      "2.2769578957317074\n"
     ]
    }
   ],
   "source": [
    "print(np.max(energy))"
   ]
  },
  {
   "cell_type": "code",
   "execution_count": 7,
   "metadata": {},
   "outputs": [],
   "source": [
    "alpha = 1e3"
   ]
  },
  {
   "cell_type": "markdown",
   "metadata": {},
   "source": [
    "# PoC interpretation"
   ]
  },
  {
   "cell_type": "markdown",
   "metadata": {},
   "source": [
    "**Execution check without applying local potential**"
   ]
  },
  {
   "cell_type": "code",
   "execution_count": 8,
   "metadata": {},
   "outputs": [],
   "source": [
    "energy = np.zeros_like(space_matrix, dtype=float)\n",
    "energy = apply_QH_energy(energy, E_QH, bulk_indices)\n",
    "energy = apply_confinement_potential(energy, bulk_indices, boundary_indices, alpha)"
   ]
  },
  {
   "cell_type": "code",
   "execution_count": 9,
   "metadata": {},
   "outputs": [],
   "source": [
    "edge = find_edge(energy, E_F, U_fluc, bulk)"
   ]
  },
  {
   "cell_type": "code",
   "execution_count": 10,
   "metadata": {},
   "outputs": [
    {
     "data": {
      "text/plain": [
       "np.float64(1032.1164975263728)"
      ]
     },
     "execution_count": 10,
     "metadata": {},
     "output_type": "execute_result"
    }
   ],
   "source": [
    "calculate_edge_length(edge)"
   ]
  },
  {
   "cell_type": "code",
   "execution_count": null,
   "metadata": {},
   "outputs": [
    {
     "data": {
      "text/plain": [
       "1018.035345410779"
      ]
     },
     "execution_count": 11,
     "metadata": {},
     "output_type": "execute_result"
    }
   ],
   "source": [
    "len(x) + np.pi * radius_gate - 2 * radius_gate"
   ]
  }
 ],
 "metadata": {
  "kernelspec": {
   "display_name": ".venv",
   "language": "python",
   "name": "python3"
  },
  "language_info": {
   "codemirror_mode": {
    "name": "ipython",
    "version": 3
   },
   "file_extension": ".py",
   "mimetype": "text/x-python",
   "name": "python",
   "nbconvert_exporter": "python",
   "pygments_lexer": "ipython3",
   "version": "3.10.11"
  }
 },
 "nbformat": 4,
 "nbformat_minor": 2
}
